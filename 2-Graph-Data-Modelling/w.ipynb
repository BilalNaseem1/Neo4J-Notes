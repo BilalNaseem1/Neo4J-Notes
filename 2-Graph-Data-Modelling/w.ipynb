{
 "cells": [
  {
   "cell_type": "code",
   "execution_count": 1,
   "metadata": {},
   "outputs": [
    {
     "name": "stdout",
     "output_type": "stream",
     "text": [
      "Replacements done successfully.\n"
     ]
    }
   ],
   "source": [
    "import re\n",
    "\n",
    "# Read the content of the file\n",
    "with open(\"README.md\", \"r\") as file:\n",
    "    content = file.read()\n",
    "\n",
    "# Replace \"image*\" with \"images/image*\"\n",
    "updated_content = re.sub(r'\\bimage([^\\s]*)', r'images/image\\1', content)\n",
    "\n",
    "# Write the updated content back to the file\n",
    "with open(\"README.md\", \"w\") as file:\n",
    "    file.write(updated_content)\n",
    "\n",
    "print(\"Replacements done successfully.\")"
   ]
  },
  {
   "cell_type": "code",
   "execution_count": null,
   "metadata": {},
   "outputs": [],
   "source": []
  }
 ],
 "metadata": {
  "kernelspec": {
   "display_name": "Python 3",
   "language": "python",
   "name": "python3"
  },
  "language_info": {
   "codemirror_mode": {
    "name": "ipython",
    "version": 3
   },
   "file_extension": ".py",
   "mimetype": "text/x-python",
   "name": "python",
   "nbconvert_exporter": "python",
   "pygments_lexer": "ipython3",
   "version": "3.12.3"
  }
 },
 "nbformat": 4,
 "nbformat_minor": 2
}
